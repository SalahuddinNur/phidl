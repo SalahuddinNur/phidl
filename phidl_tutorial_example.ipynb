{
 "cells": [
  {
   "cell_type": "markdown",
   "metadata": {},
   "source": [
    "# About this notebook\n",
    "\n",
    "This notebook is just used to quickly demonstrate some basic functionality of PHIDL.  For a much more expansive tutorial with more thorough explanations, please see the phidl_tutorial_example.py file (link here: [phidl_tutorial_example.py](https://github.com/amccaugh/phidl/blob/master/phidl/phidl_tutorial_example.py#L26) )\n"
   ]
  },
  {
   "cell_type": "code",
   "execution_count": null,
   "metadata": {},
   "outputs": [],
   "source": [
    "%matplotlib notebook\n",
    "from phidl import Device\n",
    "from phidl import quickplot as qp # Rename \"quickplot()\" to the easier \"qp()\"\n",
    "import phidl.geometry as pg\n",
    "\n",
    "\n",
    "# Create a blank device (essentially an empty GDS cell with some special features)\n",
    "D = Device('mydevice')\n",
    "\n",
    "# Create and add a polygon from separate lists of x points and y points\n",
    "# e.g. [(x1, x2, x3, ...), (y1, y2, y3, ...)]\n",
    "poly1 = D.add_polygon( [(8,6,7,9), (6,8,9,5)] )\n",
    "\n",
    "# Alternatively, create and add a polygon from a list of points\n",
    "# e.g. [(x1,y1), (x2,y2), (x3,y3), ...] using the same function\n",
    "poly2 = D.add_polygon( [(0, 0), (1, 1), (1, 3), (-3, 3)] )\n",
    "\n",
    "qp(D) # quickplot it!\n"
   ]
  },
  {
   "cell_type": "code",
   "execution_count": null,
   "metadata": {},
   "outputs": [],
   "source": [
    "b"
   ]
  },
  {
   "cell_type": "code",
   "execution_count": null,
   "metadata": {},
   "outputs": [],
   "source": []
  }
 ],
 "metadata": {
  "kernelspec": {
   "display_name": "Python 3",
   "language": "python",
   "name": "python3"
  },
  "language_info": {
   "codemirror_mode": {
    "name": "ipython",
    "version": 3
   },
   "file_extension": ".py",
   "mimetype": "text/x-python",
   "name": "python",
   "nbconvert_exporter": "python",
   "pygments_lexer": "ipython3",
   "version": "3.6.4"
  }
 },
 "nbformat": 4,
 "nbformat_minor": 2
}
